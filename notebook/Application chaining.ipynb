{
 "cells": [
  {
   "cell_type": "markdown",
   "metadata": {},
   "source": [
    "# Application chaining"
   ]
  },
  {
   "cell_type": "markdown",
   "metadata": {},
   "source": [
    "Use a notebook to demonstrate the application chaining:\n",
    "\n",
    "- stage-in a pairs of EO products, pre- and post-event\n",
    "- process three vegetation indexes: NDVI, NDWI and NBR\n",
    "- process the burned area delineation products: NDVI/NDWI thresholds and RBR"
   ]
  },
  {
   "cell_type": "markdown",
   "metadata": {},
   "source": [
    "### Chaining strategy\n",
    "\n",
    "The application chaining prepares the inputs and parameters for executing the three CWL scripts and parses the outputs for the next step in the chaining.\n",
    "\n",
    "The Jupyter Notebook is thus used to orchestrate the `cwltool` invoking the steps.\n",
    "\n",
    "Applications to be chained in this scenario are a combination of Jupyter notebook based applications and Application Packages expressed as CWL that read a STAC local catalog and produce a local STAC catalog.\n",
    "\n",
    "The applications are executed in Docker containers. These docker containers were built a tool called `repo2cli` that takes a remote git repository, creates the conda environment and create a CLI utility to execute the notebook using the Jupyter Notebook APIs (nbconvert).\n",
    "\n",
    "This tool is available at: https://github.com/terradue-ogc-tb16/repo2cli and its docker at https://github.com/terradue-ogc-tb16/docker-repo2cli"
   ]
  },
  {
   "cell_type": "markdown",
   "metadata": {},
   "source": [
    "### Imports"
   ]
  },
  {
   "cell_type": "code",
   "execution_count": 1,
   "metadata": {},
   "outputs": [],
   "source": [
    "%load_ext autoreload\n",
    "%autoreload 2"
   ]
  },
  {
   "cell_type": "code",
   "execution_count": 2,
   "metadata": {},
   "outputs": [],
   "source": [
    "import os\n",
    "import yaml\n",
    "from pystac import *\n",
    "from helpers import * "
   ]
  },
  {
   "cell_type": "markdown",
   "metadata": {},
   "source": [
    "### First step: stage-in Sentinel-2 Level-2A acquisitions\n",
    "\n",
    "Stage-in the pre- and post event acquisitions with the `stage-in` docker that takes as input a catalog entry reference\n",
    "\n",
    "And produces as output:\n",
    "\n",
    "- a local STAC catalog with a single collection and items whose assets point to the local staged bands (e.g. 'red', 'nir', 'swir16', 'swir22')"
   ]
  },
  {
   "cell_type": "code",
   "execution_count": 3,
   "metadata": {},
   "outputs": [],
   "source": [
    "cwl_stage_in = 'stage-in.cwl'"
   ]
  },
  {
   "cell_type": "code",
   "execution_count": 4,
   "metadata": {},
   "outputs": [
    {
     "data": {
      "text/plain": [
       "{'input_reference': {'doc': 'A reference to an opensearch catalog',\n",
       "  'label': 'A reference to an opensearch catalog',\n",
       "  'type': 'string[]'},\n",
       " 'target_folder': {'label': 'Folder to stage-in',\n",
       "  'doc': 'Folder to stage-in',\n",
       "  'type': 'string'}}"
      ]
     },
     "execution_count": 4,
     "metadata": {},
     "output_type": "execute_result"
    }
   ],
   "source": [
    "inputs = get_workflow_inputs(cwl_stage_in)\n",
    "\n",
    "inputs"
   ]
  },
  {
   "cell_type": "code",
   "execution_count": 5,
   "metadata": {},
   "outputs": [],
   "source": [
    "sentinel2_references = ['https://catalog.terradue.com/sentinel2/search?uid=S2A_MSIL2A_20191216T004701_N0213_R102_T53HPA_20191216T024808',\n",
    "                        'https://catalog.terradue.com/sentinel2/search?uid=S2B_MSIL2A_20200130T004659_N0213_R102_T53HPA_20200130T022348']"
   ]
  },
  {
   "cell_type": "code",
   "execution_count": 11,
   "metadata": {},
   "outputs": [
    {
     "name": "stdout",
     "output_type": "stream",
     "text": [
      "/opt/anaconda/bin/cwltool --no-read-only --no-match-user stage-in.cwl#main /tmp/8l6kiffc\n",
      "/opt/anaconda/bin/cwltool --no-read-only --no-match-user stage-in.cwl#main /tmp/rp6pj_f5\n"
     ]
    },
    {
     "data": {
      "text/plain": [
       "['file:///workspace/ogc-tb16/application-chaining/notebook/ss_5dhh_/catalog.json',\n",
       " 'file:///workspace/ogc-tb16/application-chaining/notebook/6nzht0vd/catalog.json']"
      ]
     },
     "execution_count": 11,
     "metadata": {},
     "output_type": "execute_result"
    }
   ],
   "source": [
    "stagein_catalogs = []\n",
    "\n",
    "for index, reference in enumerate(sentinel2_references):\n",
    "\n",
    "    params = {'target_folder': './', \n",
    "              'input_reference': [reference]}\n",
    "    \n",
    "    result, std_err = process_worflow(cwl_stage_in, params)\n",
    "    \n",
    "    stagein_catalogs.append(get_catalog(result))\n",
    "    \n",
    "stagein_catalogs"
   ]
  },
  {
   "cell_type": "markdown",
   "metadata": {},
   "source": [
    "### Second step: vegetation index\n",
    "\n",
    "The second step produces the vegetation indexes NDVI, NDWI and NBR. It takes as input the local STAC catalog.\n",
    "\n",
    "This step produces as output:\n",
    "\n",
    "- a local STAC catalog with a single item whose assets point to the 'NDVI', 'NDWI' and 'NBR' assets\n",
    "\n",
    "The Jupyter Notebook git repository is available at https://github.com/terradue-ogc-tb16/vegetation-index\n",
    "\n",
    "Its docker git repository is available at https://github.com/terradue-ogc-tb16/docker-vegetation-index"
   ]
  },
  {
   "cell_type": "code",
   "execution_count": 12,
   "metadata": {},
   "outputs": [],
   "source": [
    "cwl_vegetation_index = 'vegetation-index.cwl'"
   ]
  },
  {
   "cell_type": "code",
   "execution_count": 13,
   "metadata": {},
   "outputs": [
    {
     "data": {
      "text/plain": [
       "{'aoi': {'doc': 'Area of interest in WKT',\n",
       "  'label': 'Area of interest',\n",
       "  'type': 'string'},\n",
       " 'input_reference': {'doc': 'EO product for vegetation index',\n",
       "  'label': 'EO product for vegetation index',\n",
       "  'type': 'Directory[]'}}"
      ]
     },
     "execution_count": 13,
     "metadata": {},
     "output_type": "execute_result"
    }
   ],
   "source": [
    "inputs = get_workflow_inputs(cwl_vegetation_index)\n",
    "\n",
    "inputs"
   ]
  },
  {
   "cell_type": "code",
   "execution_count": 14,
   "metadata": {},
   "outputs": [],
   "source": [
    "aoi = 'POLYGON((136.508 -36.108,136.508 -35.654,137.178 -35.654,137.178 -36.108,136.508 -36.108))'"
   ]
  },
  {
   "cell_type": "code",
   "execution_count": 15,
   "metadata": {},
   "outputs": [
    {
     "name": "stdout",
     "output_type": "stream",
     "text": [
      "/opt/anaconda/bin/cwltool --no-read-only --no-match-user vegetation-index.cwl#vegetation-index /tmp/w7jxpj18\n",
      "/opt/anaconda/bin/cwltool --no-read-only --no-match-user vegetation-index.cwl#vegetation-index /tmp/cyflhrgb\n"
     ]
    },
    {
     "data": {
      "text/plain": [
       "['file:///workspace/ogc-tb16/application-chaining/notebook/sz1os_67/catalog.json',\n",
       " 'file:///workspace/ogc-tb16/application-chaining/notebook/4wo1nqey/catalog.json']"
      ]
     },
     "execution_count": 15,
     "metadata": {},
     "output_type": "execute_result"
    }
   ],
   "source": [
    "vegetation_index_catalogs = []\n",
    "\n",
    "for index, stac_catalog in enumerate(stagein_catalogs):\n",
    "\n",
    "    params = {'input_reference': [{'class': 'Directory', 'path': os.path.dirname(stac_catalog)}],\n",
    "              'aoi': aoi}\n",
    "    \n",
    "    result, std_err = process_worflow(cwl_vegetation_index, params)\n",
    "    \n",
    "    vegetation_index_catalogs.append(get_catalog(result))\n",
    "    \n",
    "vegetation_index_catalogs    "
   ]
  },
  {
   "cell_type": "markdown",
   "metadata": {},
   "source": [
    "### Third step - burned area delineation\n",
    "\n",
    "This step takes as input a local STAC catalog with STAC catalog with a single item whose assets point to the 'NDVI', 'NDWI' and 'NBR' assets to produce a bitmask for the burned area based on the NDVI and NDWI thresholds and the Relativized Burn Ratio, an indicator of the burned area intensity .\n",
    "\n",
    "The Jupyter Notebook git repository is available at https://github.com/terradue-ogc-tb16/burned-area-delineation\n",
    "\n",
    "Its docker git repository is available at https://github.com/terradue-ogc-tb16/docker-burned-area-delineation"
   ]
  },
  {
   "cell_type": "code",
   "execution_count": 16,
   "metadata": {},
   "outputs": [],
   "source": [
    "cwl_burned_area = 'burned-area-delineation.cwl'"
   ]
  },
  {
   "cell_type": "code",
   "execution_count": 17,
   "metadata": {},
   "outputs": [
    {
     "data": {
      "text/plain": [
       "{'ndvi_threshold': {'doc': 'NDVI difference threshold',\n",
       "  'label': 'NDVI difference threshold',\n",
       "  'type': 'string'},\n",
       " 'ndwi_threshold': {'doc': 'NDWI difference threshold',\n",
       "  'label': 'NDWI difference threshold',\n",
       "  'type': 'string'},\n",
       " 'post_event': {'doc': 'Post-event product for burned area delineation',\n",
       "  'label': 'Post-event product for burned area delineation',\n",
       "  'type': 'Directory'},\n",
       " 'pre_event': {'doc': 'Pre-event product for burned area delineation',\n",
       "  'label': 'Pre-event product for burned area delineation',\n",
       "  'type': 'Directory'}}"
      ]
     },
     "execution_count": 17,
     "metadata": {},
     "output_type": "execute_result"
    }
   ],
   "source": [
    "inputs = get_workflow_inputs(cwl_burned_area)\n",
    "\n",
    "inputs"
   ]
  },
  {
   "cell_type": "markdown",
   "metadata": {},
   "source": [
    "Create the parameters file for CWL and invoke the CWL runner tool"
   ]
  },
  {
   "cell_type": "code",
   "execution_count": 18,
   "metadata": {},
   "outputs": [],
   "source": [
    "ndvi_threshold = 0.19\n",
    "ndwi_threshold = 0.18"
   ]
  },
  {
   "cell_type": "code",
   "execution_count": 19,
   "metadata": {},
   "outputs": [
    {
     "name": "stdout",
     "output_type": "stream",
     "text": [
      "/opt/anaconda/bin/cwltool --no-read-only --no-match-user burned-area-delineation.cwl#burned-area-delineation /tmp/hbh1je3c\n"
     ]
    }
   ],
   "source": [
    "params = {'ndvi_threshold': str(ndvi_threshold),\n",
    "          'ndwi_threshold': str(ndwi_threshold),\n",
    "          'pre_event': {'class': 'Directory', 'path': os.path.dirname(vegetation_index_catalogs[0])},\n",
    "          'post_event': {'class': 'Directory', 'path': os.path.dirname(vegetation_index_catalogs[1])}\n",
    "         }\n",
    "\n",
    "result, std_err = process_worflow(cwl_burned_area, params)\n",
    " "
   ]
  },
  {
   "cell_type": "markdown",
   "metadata": {},
   "source": [
    "### Inspect the results"
   ]
  },
  {
   "cell_type": "code",
   "execution_count": 20,
   "metadata": {},
   "outputs": [],
   "source": [
    "cat = Catalog.from_file(get_catalog(result).replace('file://', ''))"
   ]
  },
  {
   "cell_type": "code",
   "execution_count": 21,
   "metadata": {},
   "outputs": [
    {
     "name": "stdout",
     "output_type": "stream",
     "text": [
      "* <Catalog id=catalog>\n",
      "  * <Item id=BURNED_AREA_DELINEATION>\n"
     ]
    }
   ],
   "source": [
    "cat.describe()"
   ]
  },
  {
   "cell_type": "code",
   "execution_count": 22,
   "metadata": {},
   "outputs": [
    {
     "data": {
      "text/plain": [
       "{'tvi': <Asset href=./BURNED_NDVI_NDWI_THRESHOLD.tif>,\n",
       " 'dnbr': <Asset href=./BURNED_RBR.tif>}"
      ]
     },
     "execution_count": 22,
     "metadata": {},
     "output_type": "execute_result"
    }
   ],
   "source": [
    "item = next(cat.get_items())\n",
    "\n",
    "item.assets"
   ]
  },
  {
   "cell_type": "code",
   "execution_count": 23,
   "metadata": {},
   "outputs": [
    {
     "name": "stdout",
     "output_type": "stream",
     "text": [
      "/workspace/ogc-tb16/application-chaining/notebook/s8adeufv/BURNED_AREA_DELINEATION/BURNED_NDVI_NDWI_THRESHOLD.tif\n",
      "/workspace/ogc-tb16/application-chaining/notebook/s8adeufv/BURNED_AREA_DELINEATION/BURNED_RBR.tif\n"
     ]
    }
   ],
   "source": [
    "print(item.assets['tvi'].get_absolute_href())\n",
    "print(item.assets['dnbr'].get_absolute_href())"
   ]
  },
  {
   "cell_type": "code",
   "execution_count": null,
   "metadata": {},
   "outputs": [],
   "source": []
  }
 ],
 "metadata": {
  "kernelspec": {
   "display_name": "env_burned_area",
   "language": "python",
   "name": "env_burned_area"
  },
  "language_info": {
   "codemirror_mode": {
    "name": "ipython",
    "version": 3
   },
   "file_extension": ".py",
   "mimetype": "text/x-python",
   "name": "python",
   "nbconvert_exporter": "python",
   "pygments_lexer": "ipython3",
   "version": "3.7.8"
  }
 },
 "nbformat": 4,
 "nbformat_minor": 4
}
