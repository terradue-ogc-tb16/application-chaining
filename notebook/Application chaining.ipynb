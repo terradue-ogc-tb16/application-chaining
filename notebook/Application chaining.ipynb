{
 "cells": [
  {
   "cell_type": "markdown",
   "metadata": {},
   "source": [
    "# Application chaining"
   ]
  },
  {
   "cell_type": "markdown",
   "metadata": {},
   "source": [
    "Use a notebook to demonstrate the application chaining:\n",
    "\n",
    "- stage-in a pairs of EO products, pre- and post-event\n",
    "- process three vegetation indexes: NDVI, NDWI and NBR\n",
    "- process the burned area delineation products: NDVI/NDWI thresholds and RBR"
   ]
  },
  {
   "cell_type": "markdown",
   "metadata": {},
   "source": [
    "## Worflow\n",
    "\n",
    "### First step: stage-in Sentinel-2 Level-2A acquisitions\n",
    "\n",
    "Stage-in the pre- and post event acquisitions with the `stage-in` docker that takes as input a catalog entry reference\n",
    "\n",
    "And produces as output:\n",
    "\n",
    "- a local STAC catalog with a single collection and items whose assets point to the local staged bands (e.g. 'red', 'nir', 'swir16', 'swir22')\n",
    "\n",
    "### Second step: vegetation index\n",
    "\n",
    "The second step produces the vegetation indexes NDVI, NDWI and NBR. It takes as input the local STAC catalog.\n",
    "\n",
    "This step produces as output:\n",
    "\n",
    "- a local STAC catalog with a single item whose assets point to the 'NDVI', 'NDWI' and 'NBR' assets\n",
    "\n",
    "The Jupyter Notebook git repository is available at https://github.com/terradue-ogc-tb16/vegetation-index\n",
    "\n",
    "Its docker git repository is available at https://github.com/terradue-ogc-tb16/docker-vegetation-index\n",
    "\n",
    "### Third step - burned area delineation\n",
    "\n",
    "This step takes as input a local STAC catalog with STAC catalog with a single item whose assets point to the 'NDVI', 'NDWI' and 'NBR' assets to produce a bitmask for the burned area based on the NDVI and NDWI thresholds and the Relativized Burn Ratio, an indicator of the burned area intensity .\n",
    "\n",
    "The Jupyter Notebook git repository is available at https://github.com/terradue-ogc-tb16/burned-area-delineation\n",
    "\n",
    "Its docker git repository is available at https://github.com/terradue-ogc-tb16/docker-burned-area-delineation"
   ]
  },
  {
   "cell_type": "markdown",
   "metadata": {},
   "source": [
    "### Chaining strategy\n",
    "\n",
    "The application chaining prepares the inputs and parameters for executing the three CWL scripts and parses the outputs for the next step in the chaining.\n",
    "\n",
    "The Jupyter Notebook is thus used to orchestrate the `cwltool` invoking the steps.\n",
    "\n",
    "Applications to be chained in this scenario are a combination of Jupyter notebook based applications and Application Packages expressed as CWL that read a STAC local catalog and produce a local STAC catalog.\n",
    "\n",
    "The applications are executed in Docker containers. These docker containers were built a tool called `repo2cli` that takes a remote git repository, creates the conda environment and create a CLI utility to execute the notebook using the Jupyter Notebook APIs (nbconvert).\n",
    "\n",
    "This tool is available at: https://github.com/terradue-ogc-tb16/repo2cli and its docker at https://github.com/terradue-ogc-tb16/docker-repo2cli"
   ]
  },
  {
   "cell_type": "markdown",
   "metadata": {},
   "source": [
    "### Imports"
   ]
  },
  {
   "cell_type": "code",
   "execution_count": 1,
   "metadata": {},
   "outputs": [],
   "source": [
    "import subprocess\n",
    "import os\n",
    "import yaml\n",
    "import json\n",
    "from pystac import *\n"
   ]
  },
  {
   "cell_type": "code",
   "execution_count": 2,
   "metadata": {},
   "outputs": [],
   "source": [
    "cwltool = '/opt/anaconda/bin/cwltool'"
   ]
  },
  {
   "cell_type": "markdown",
   "metadata": {},
   "source": [
    "### Stage-in"
   ]
  },
  {
   "cell_type": "code",
   "execution_count": 3,
   "metadata": {},
   "outputs": [],
   "source": [
    "cwl_stagein = 'stage-in.cwl'"
   ]
  },
  {
   "cell_type": "code",
   "execution_count": 4,
   "metadata": {},
   "outputs": [],
   "source": [
    "with open(cwl_stagein) as file:\n",
    "    \n",
    "    stagein_cwl = yaml.load(file, \n",
    "                            Loader=yaml.FullLoader)"
   ]
  },
  {
   "cell_type": "code",
   "execution_count": 5,
   "metadata": {},
   "outputs": [
    {
     "data": {
      "text/plain": [
       "{'$graph': [{'baseCommand': 'stage-in',\n",
       "   'class': 'CommandLineTool',\n",
       "   'hints': {'DockerRequirement': {'dockerPull': 'eoepca/stage-in:0.2'}},\n",
       "   'id': 'stagein',\n",
       "   'inputs': {'inp1': {'inputBinding': {'position': 1, 'prefix': '-t'},\n",
       "     'type': 'string'},\n",
       "    'inp2': {'inputBinding': {'position': 2}, 'type': 'string[]'}},\n",
       "   'outputs': {'results': {'outputBinding': {'glob': '.'},\n",
       "     'type': 'Directory'}},\n",
       "   'requirements': {'EnvVarRequirement': {'envDef': {'PATH': '/opt/anaconda/envs/env_stagein/bin:/usr/local/sbin:/usr/local/bin:/usr/sbin:/usr/bin:/sbin:/bin'}},\n",
       "    'ResourceRequirement': {}}},\n",
       "  {'class': 'Workflow',\n",
       "   'label': 'Instac stage-in',\n",
       "   'doc': 'Stage-in using Instac',\n",
       "   'id': 'main',\n",
       "   'inputs': {'input_reference': {'doc': 'A reference to an opensearch catalog',\n",
       "     'label': 'A reference to an opensearch catalog',\n",
       "     'type': 'string[]'},\n",
       "    'target_folder': {'label': 'Folder to stage-in',\n",
       "     'doc': 'Folder to stage-in',\n",
       "     'type': 'string'}},\n",
       "   'outputs': [{'id': 'wf_outputs',\n",
       "     'outputSource': ['node_1/results'],\n",
       "     'type': 'Directory'}],\n",
       "   'steps': {'node_1': {'in': {'inp1': 'target_folder',\n",
       "      'inp2': 'input_reference'},\n",
       "     'out': ['results'],\n",
       "     'run': '#stagein'}}}],\n",
       " 'cwlVersion': 'v1.0'}"
      ]
     },
     "execution_count": 5,
     "metadata": {},
     "output_type": "execute_result"
    }
   ],
   "source": [
    "stagein_cwl"
   ]
  },
  {
   "cell_type": "markdown",
   "metadata": {},
   "source": [
    "Get the CWL `Workflow` class"
   ]
  },
  {
   "cell_type": "code",
   "execution_count": 6,
   "metadata": {},
   "outputs": [],
   "source": [
    "def get_workflow_class(cwl):\n",
    "    \n",
    "    cwl_workflow = None\n",
    "    \n",
    "    for block in cwl['$graph']:\n",
    "\n",
    "        if block['class'] == 'Workflow':\n",
    "\n",
    "            cwl_workflow = block\n",
    "\n",
    "            break\n",
    "            \n",
    "    return cwl_workflow"
   ]
  },
  {
   "cell_type": "code",
   "execution_count": 7,
   "metadata": {},
   "outputs": [
    {
     "data": {
      "text/plain": [
       "{'class': 'Workflow',\n",
       " 'label': 'Instac stage-in',\n",
       " 'doc': 'Stage-in using Instac',\n",
       " 'id': 'main',\n",
       " 'inputs': {'input_reference': {'doc': 'A reference to an opensearch catalog',\n",
       "   'label': 'A reference to an opensearch catalog',\n",
       "   'type': 'string[]'},\n",
       "  'target_folder': {'label': 'Folder to stage-in',\n",
       "   'doc': 'Folder to stage-in',\n",
       "   'type': 'string'}},\n",
       " 'outputs': [{'id': 'wf_outputs',\n",
       "   'outputSource': ['node_1/results'],\n",
       "   'type': 'Directory'}],\n",
       " 'steps': {'node_1': {'in': {'inp1': 'target_folder',\n",
       "    'inp2': 'input_reference'},\n",
       "   'out': ['results'],\n",
       "   'run': '#stagein'}}}"
      ]
     },
     "execution_count": 7,
     "metadata": {},
     "output_type": "execute_result"
    }
   ],
   "source": [
    "cwl_workflow = get_workflow_class(stagein_cwl)\n",
    "\n",
    "cwl_workflow"
   ]
  },
  {
   "cell_type": "markdown",
   "metadata": {},
   "source": [
    "Get the workflow `id`"
   ]
  },
  {
   "cell_type": "code",
   "execution_count": 8,
   "metadata": {},
   "outputs": [
    {
     "data": {
      "text/plain": [
       "'main'"
      ]
     },
     "execution_count": 8,
     "metadata": {},
     "output_type": "execute_result"
    }
   ],
   "source": [
    "cwl_stagein_workflow_id = cwl_workflow['id']\n",
    "\n",
    "cwl_stagein_workflow_id"
   ]
  },
  {
   "cell_type": "markdown",
   "metadata": {},
   "source": [
    "Get the workflow `inputs`:"
   ]
  },
  {
   "cell_type": "code",
   "execution_count": 9,
   "metadata": {},
   "outputs": [
    {
     "data": {
      "text/plain": [
       "{'input_reference': {'doc': 'A reference to an opensearch catalog',\n",
       "  'label': 'A reference to an opensearch catalog',\n",
       "  'type': 'string[]'},\n",
       " 'target_folder': {'label': 'Folder to stage-in',\n",
       "  'doc': 'Folder to stage-in',\n",
       "  'type': 'string'}}"
      ]
     },
     "execution_count": 9,
     "metadata": {},
     "output_type": "execute_result"
    }
   ],
   "source": [
    "cwl_workflow['inputs']"
   ]
  },
  {
   "cell_type": "markdown",
   "metadata": {},
   "source": [
    "Create the `catalog definition` files"
   ]
  },
  {
   "cell_type": "code",
   "execution_count": 10,
   "metadata": {},
   "outputs": [],
   "source": [
    "sentinel2_references = ['https://catalog.terradue.com/sentinel2/search?uid=S2A_MSIL2A_20191216T004701_N0213_R102_T53HPA_20191216T024808',\n",
    "                        'https://catalog.terradue.com/sentinel2/search?uid=S2B_MSIL2A_20200130T004659_N0213_R102_T53HPA_20200130T022348']"
   ]
  },
  {
   "cell_type": "code",
   "execution_count": 11,
   "metadata": {},
   "outputs": [
    {
     "name": "stdout",
     "output_type": "stream",
     "text": [
      "/opt/anaconda/bin/cwltool --no-read-only --no-match-user stage-in.cwl#main /workspace/ogc-tb16/application-chaining/notebook/stage-in-pre.yml\n",
      "/opt/anaconda/bin/cwltool --no-read-only --no-match-user stage-in.cwl#main /workspace/ogc-tb16/application-chaining/notebook/stage-in-post.yml\n"
     ]
    }
   ],
   "source": [
    "stagein_results = []\n",
    "\n",
    "for index, reference in enumerate(sentinel2_references):\n",
    "\n",
    "    # prepare the YAML parameter file\n",
    "    params = {'target_folder': './', \n",
    "              'input_reference': [reference]}\n",
    "    \n",
    "    \n",
    "    params_file = os.path.join(os.getcwd(), 'stage-in-{}.yml'.format('pre' if index == 0 else 'post'))        \n",
    "    \n",
    "    with open(params_file, 'w') as yaml_file:\n",
    "\n",
    "        yaml.dump(params,\n",
    "                  yaml_file, \n",
    "                  default_flow_style=False)\n",
    "    \n",
    "    # invoke cwltool\n",
    "    cmd_args = [cwltool, \n",
    "                '--no-read-only',\n",
    "                '--no-match-user',\n",
    "                '{}#{}'.format(cwl_stagein, \n",
    "                               cwl_stagein_workflow_id), \n",
    "                params_file]\n",
    "        \n",
    "    print(' '.join(cmd_args))\n",
    "\n",
    "    pipes = subprocess.Popen(cmd_args, \n",
    "                             stdout=subprocess.PIPE, \n",
    "                             stderr=subprocess.PIPE)\n",
    "    \n",
    "    std_out, std_err = pipes.communicate()\n",
    "    \n",
    "    # get the stdout for each execution\n",
    "    stagein_results.append(std_out)"
   ]
  },
  {
   "cell_type": "markdown",
   "metadata": {},
   "source": [
    "`std_out` contains a JSON document with all results produced. Look for the `catalog.json` files amongst the results: "
   ]
  },
  {
   "cell_type": "code",
   "execution_count": 12,
   "metadata": {},
   "outputs": [],
   "source": [
    "stac_catalog = None\n",
    "\n",
    "staged_stac_catalogs = []\n",
    "\n",
    "for index, std_out in enumerate(stagein_results):\n",
    "    \n",
    "    results = json.loads(std_out.decode())\n",
    "\n",
    "    for index, listing in enumerate(results['wf_outputs']['listing']):\n",
    "\n",
    "        if listing['class'] == 'File':\n",
    "            \n",
    "            if (listing['basename']) == 'catalog.json':\n",
    "                \n",
    "                stac_catalog = listing['location']\n",
    "            \n",
    "            break\n",
    "    \n",
    "    staged_stac_catalogs.append(stac_catalog)"
   ]
  },
  {
   "cell_type": "code",
   "execution_count": 13,
   "metadata": {},
   "outputs": [
    {
     "data": {
      "text/plain": [
       "['file:///workspace/ogc-tb16/application-chaining/notebook/kevk72uv/catalog.json',\n",
       " 'file:///workspace/ogc-tb16/application-chaining/notebook/rdr1xi70/catalog.json']"
      ]
     },
     "execution_count": 13,
     "metadata": {},
     "output_type": "execute_result"
    }
   ],
   "source": [
    "staged_stac_catalogs"
   ]
  },
  {
   "cell_type": "markdown",
   "metadata": {},
   "source": [
    "Inspect one of the staged STAC catalogs:"
   ]
  },
  {
   "cell_type": "code",
   "execution_count": 14,
   "metadata": {},
   "outputs": [
    {
     "name": "stdout",
     "output_type": "stream",
     "text": [
      "* <Catalog id=catid>\n",
      "  * <Item id=S2A_MSIL2A_20191216T004701_N0213_R102_T53HPA_20191216T024808>\n"
     ]
    }
   ],
   "source": [
    "cat = Catalog.from_file(staged_stac_catalogs[0].replace('file://', ''))\n",
    "\n",
    "cat.describe()"
   ]
  },
  {
   "cell_type": "code",
   "execution_count": 15,
   "metadata": {},
   "outputs": [],
   "source": [
    "item = next(cat.get_items())"
   ]
  },
  {
   "cell_type": "markdown",
   "metadata": {},
   "source": [
    "Getting the assets based on the band common name is quite easy:  "
   ]
  },
  {
   "cell_type": "code",
   "execution_count": 16,
   "metadata": {},
   "outputs": [],
   "source": [
    "def get_assets(item):\n",
    "    \n",
    "    asset_swir16, asset_swir22, asset_nir, asset_red = None, None, None, None\n",
    "    \n",
    "    eo_item = extensions.eo.EOItemExt(item)\n",
    "    \n",
    "    for index, band in enumerate(eo_item.bands):\n",
    "   \n",
    "        if band.common_name in ['swir16']:\n",
    "\n",
    "            asset_swir16 = item.assets[band.name].get_absolute_href()\n",
    "\n",
    "        if band.common_name in ['swir22']:\n",
    "\n",
    "            asset_swir22 = item.assets[band.name].get_absolute_href()\n",
    "\n",
    "        if band.common_name in ['nir']:\n",
    "\n",
    "            asset_nir = item.assets[band.name].get_absolute_href()\n",
    "            \n",
    "        if band.common_name in ['red']:\n",
    "\n",
    "            asset_red = item.assets[band.name].get_absolute_href()\n",
    "        \n",
    "    return asset_swir16, asset_swir22, asset_nir, asset_red\n",
    "\n"
   ]
  },
  {
   "cell_type": "code",
   "execution_count": 17,
   "metadata": {},
   "outputs": [
    {
     "data": {
      "text/plain": [
       "('/workspace/ogc-tb16/application-chaining/notebook/kevk72uv/S2A_MSIL2A_20191216T004701_N0213_R102_T53HPA_20191216T024808/S2A_MSIL2A_20191216T004701_N0213_R102_T53HPA_20191216T024808/S2A_MSIL2A_20191216T004701_N0213_R102_T53HPA_20191216T024808.SAFE/GRANULE/L2A_T53HPA_A023408_20191216T004701/IMG_DATA/R20m/T53HPA_20191216T004701_B11_20m.jp2',\n",
       " '/workspace/ogc-tb16/application-chaining/notebook/kevk72uv/S2A_MSIL2A_20191216T004701_N0213_R102_T53HPA_20191216T024808/S2A_MSIL2A_20191216T004701_N0213_R102_T53HPA_20191216T024808/S2A_MSIL2A_20191216T004701_N0213_R102_T53HPA_20191216T024808.SAFE/GRANULE/L2A_T53HPA_A023408_20191216T004701/IMG_DATA/R20m/T53HPA_20191216T004701_B12_20m.jp2',\n",
       " '/workspace/ogc-tb16/application-chaining/notebook/kevk72uv/S2A_MSIL2A_20191216T004701_N0213_R102_T53HPA_20191216T024808/S2A_MSIL2A_20191216T004701_N0213_R102_T53HPA_20191216T024808/S2A_MSIL2A_20191216T004701_N0213_R102_T53HPA_20191216T024808.SAFE/GRANULE/L2A_T53HPA_A023408_20191216T004701/IMG_DATA/R10m/T53HPA_20191216T004701_B08_10m.jp2',\n",
       " '/workspace/ogc-tb16/application-chaining/notebook/kevk72uv/S2A_MSIL2A_20191216T004701_N0213_R102_T53HPA_20191216T024808/S2A_MSIL2A_20191216T004701_N0213_R102_T53HPA_20191216T024808/S2A_MSIL2A_20191216T004701_N0213_R102_T53HPA_20191216T024808.SAFE/GRANULE/L2A_T53HPA_A023408_20191216T004701/IMG_DATA/R10m/T53HPA_20191216T004701_B04_10m.jp2')"
      ]
     },
     "execution_count": 17,
     "metadata": {},
     "output_type": "execute_result"
    }
   ],
   "source": [
    "asset_swir16, asset_swir22, asset_nir, asset_red = get_assets(item)\n",
    "\n",
    "asset_swir16, asset_swir22, asset_nir, asset_red"
   ]
  },
  {
   "cell_type": "markdown",
   "metadata": {},
   "source": [
    "### Vegetation index\n",
    "\n",
    "Now that we have two EO data products staged as STAC local catalogs, let's produce the vegetation indexes."
   ]
  },
  {
   "cell_type": "markdown",
   "metadata": {},
   "source": [
    "The vegetation index processing step take as input a STAC catalog with a single item that contains amongst its assets the bands with the common names:\n",
    "\n",
    "- red\n",
    "- nir\n",
    "- swir16\n",
    "- swir22\n",
    "\n",
    "As such, this processing step can process both Sentinel-2 and Landsat-8 data without any adaptation"
   ]
  },
  {
   "cell_type": "code",
   "execution_count": 18,
   "metadata": {},
   "outputs": [],
   "source": [
    "cwl_vegetation_index = 'vegetation-index.cwl'"
   ]
  },
  {
   "cell_type": "code",
   "execution_count": 19,
   "metadata": {},
   "outputs": [],
   "source": [
    "with open(cwl_vegetation_index) as file:\n",
    "    \n",
    "    vegetation_index_cwl = yaml.load(file, \n",
    "                                     Loader=yaml.FullLoader)"
   ]
  },
  {
   "cell_type": "code",
   "execution_count": 20,
   "metadata": {},
   "outputs": [
    {
     "data": {
      "text/plain": [
       "'vegetation-index'"
      ]
     },
     "execution_count": 20,
     "metadata": {},
     "output_type": "execute_result"
    }
   ],
   "source": [
    "cwl_vegetation_workflow_id = get_workflow_class(vegetation_index_cwl)['id']\n",
    "\n",
    "cwl_vegetation_workflow_id"
   ]
  },
  {
   "cell_type": "markdown",
   "metadata": {},
   "source": [
    "Create the parameters file for CWL and invoke the CWL runner tool"
   ]
  },
  {
   "cell_type": "code",
   "execution_count": 21,
   "metadata": {},
   "outputs": [
    {
     "data": {
      "text/plain": [
       "{'aoi': {'doc': 'Area of interest in WKT',\n",
       "  'label': 'Area of interest',\n",
       "  'type': 'string'},\n",
       " 'input_reference': {'doc': 'EO product for vegetation index',\n",
       "  'label': 'EO product for vegetation index',\n",
       "  'type': 'Directory[]'}}"
      ]
     },
     "execution_count": 21,
     "metadata": {},
     "output_type": "execute_result"
    }
   ],
   "source": [
    "get_workflow_class(vegetation_index_cwl)['inputs']"
   ]
  },
  {
   "cell_type": "raw",
   "metadata": {},
   "source": [
    "aoi: POLYGON((136.508 -36.108,136.508 -35.654,137.178 -35.654,137.178 -36.108,136.508\n",
    "input_reference:\n",
    "- class: Directory\n",
    "  path:  /workspace/application-chaining/processing/xjvrenqa/s2-pre"
   ]
  },
  {
   "cell_type": "code",
   "execution_count": 22,
   "metadata": {},
   "outputs": [
    {
     "name": "stdout",
     "output_type": "stream",
     "text": [
      "/opt/anaconda/bin/cwltool --no-read-only --no-match-user vegetation-index.cwl#vegetation-index /workspace/ogc-tb16/application-chaining/notebook/vegetation-index-pre.yml\n",
      "/opt/anaconda/bin/cwltool --no-read-only --no-match-user vegetation-index.cwl#vegetation-index /workspace/ogc-tb16/application-chaining/notebook/vegetation-index-post.yml\n"
     ]
    }
   ],
   "source": [
    "vegetation_index_results = []\n",
    "\n",
    "for index, staged_stac_catalog in enumerate(staged_stac_catalogs):\n",
    "\n",
    "    params = {'input_reference': [{'class': 'Directory', 'path': os.path.dirname(staged_stac_catalog)}],\n",
    "              'aoi': 'POLYGON((136.508 -36.108,136.508 -35.654,137.178 -35.654,137.178 -36.108,136.508 -36.108))'}\n",
    "    \n",
    "    \n",
    "    params_file = os.path.join(os.getcwd(), 'vegetation-index-{}.yml'.format('pre' if index == 0 else 'post'))        \n",
    "    \n",
    "    with open(params_file, 'w') as yaml_file:\n",
    "\n",
    "        yaml.dump(params,\n",
    "                  yaml_file, \n",
    "                  default_flow_style=False)\n",
    "    \n",
    "    cmd_args = [cwltool, \n",
    "                '--no-read-only',\n",
    "                '--no-match-user',\n",
    "                '{}#{}'.format(cwl_vegetation_index, \n",
    "                               cwl_vegetation_workflow_id), \n",
    "                params_file]\n",
    "        \n",
    "    print(' '.join(cmd_args))\n",
    "\n",
    "    pipes = subprocess.Popen(cmd_args, \n",
    "                             stdout=subprocess.PIPE, \n",
    "                             stderr=subprocess.PIPE)\n",
    "    \n",
    "    std_out, std_err = pipes.communicate()\n",
    "    \n",
    "    vegetation_index_results.append(std_out)\n",
    "    "
   ]
  },
  {
   "cell_type": "code",
   "execution_count": 23,
   "metadata": {},
   "outputs": [
    {
     "data": {
      "text/plain": [
       "['file:///workspace/ogc-tb16/application-chaining/notebook/dkb877e9/catalog.json',\n",
       " 'file:///workspace/ogc-tb16/application-chaining/notebook/2anetr3f/catalog.json']"
      ]
     },
     "execution_count": 23,
     "metadata": {},
     "output_type": "execute_result"
    }
   ],
   "source": [
    "vegetation_index_stac_catalogs = []\n",
    "\n",
    "for index, std_out in enumerate(vegetation_index_results):\n",
    "    \n",
    "    results = json.loads(std_out.decode())\n",
    "\n",
    "    for index, listing in enumerate(results['wf_outputs']):\n",
    "\n",
    "        for sublisting in listing['listing']:\n",
    "\n",
    "            if (sublisting['basename']) == 'catalog.json':\n",
    "                stac_catalog = sublisting['location']\n",
    "\n",
    "                break\n",
    "\n",
    "    vegetation_index_stac_catalogs.append(stac_catalog)\n",
    "    \n",
    "vegetation_index_stac_catalogs"
   ]
  },
  {
   "cell_type": "markdown",
   "metadata": {},
   "source": [
    "Inspect one of the vegetation index catalogs:"
   ]
  },
  {
   "cell_type": "code",
   "execution_count": 24,
   "metadata": {},
   "outputs": [],
   "source": [
    "cat = Catalog.from_file(vegetation_index_stac_catalogs[0].replace('file://', ''))"
   ]
  },
  {
   "cell_type": "code",
   "execution_count": 25,
   "metadata": {},
   "outputs": [
    {
     "name": "stdout",
     "output_type": "stream",
     "text": [
      "* <Catalog id=catalog-S2A_MSIL2A_20191216T004701_N0213_R102_T53HPA_20191216T024808>\n",
      "  * <Item id=INDEX_S2A_MSIL2A_20191216T004701_N0213_R102_T53HPA_20191216T024808>\n"
     ]
    }
   ],
   "source": [
    "cat.describe()"
   ]
  },
  {
   "cell_type": "code",
   "execution_count": 26,
   "metadata": {},
   "outputs": [
    {
     "data": {
      "text/plain": [
       "{'nbr': <Asset href=./NBR_S2A_MSIL2A_20191216T004701_N0213_R102_T53HPA_20191216T024808.tif>,\n",
       " 'ndvi': <Asset href=./NDVI_S2A_MSIL2A_20191216T004701_N0213_R102_T53HPA_20191216T024808.tif>,\n",
       " 'ndwi': <Asset href=./NDWI_S2A_MSIL2A_20191216T004701_N0213_R102_T53HPA_20191216T024808.tif>}"
      ]
     },
     "execution_count": 26,
     "metadata": {},
     "output_type": "execute_result"
    }
   ],
   "source": [
    "item = next(cat.get_items())\n",
    "\n",
    "item.assets"
   ]
  },
  {
   "cell_type": "code",
   "execution_count": 27,
   "metadata": {},
   "outputs": [
    {
     "name": "stdout",
     "output_type": "stream",
     "text": [
      "/workspace/ogc-tb16/application-chaining/notebook/dkb877e9/INDEX_S2A_MSIL2A_20191216T004701_N0213_R102_T53HPA_20191216T024808/NBR_S2A_MSIL2A_20191216T004701_N0213_R102_T53HPA_20191216T024808.tif\n",
      "/workspace/ogc-tb16/application-chaining/notebook/dkb877e9/INDEX_S2A_MSIL2A_20191216T004701_N0213_R102_T53HPA_20191216T024808/NDVI_S2A_MSIL2A_20191216T004701_N0213_R102_T53HPA_20191216T024808.tif\n",
      "/workspace/ogc-tb16/application-chaining/notebook/dkb877e9/INDEX_S2A_MSIL2A_20191216T004701_N0213_R102_T53HPA_20191216T024808/NDWI_S2A_MSIL2A_20191216T004701_N0213_R102_T53HPA_20191216T024808.tif\n"
     ]
    }
   ],
   "source": [
    "print(item.assets['nbr'].get_absolute_href())\n",
    "print(item.assets['ndvi'].get_absolute_href())\n",
    "print(item.assets['ndwi'].get_absolute_href())"
   ]
  },
  {
   "cell_type": "markdown",
   "metadata": {},
   "source": [
    "### Burned area delineation "
   ]
  },
  {
   "cell_type": "code",
   "execution_count": 28,
   "metadata": {},
   "outputs": [],
   "source": [
    "cwl_burned_area = 'burned-area-delineation.cwl'"
   ]
  },
  {
   "cell_type": "code",
   "execution_count": 29,
   "metadata": {},
   "outputs": [],
   "source": [
    "with open(cwl_burned_area) as file:\n",
    "    \n",
    "    burned_area_cwl = yaml.load(file,\n",
    "                               Loader=yaml.FullLoader)"
   ]
  },
  {
   "cell_type": "code",
   "execution_count": 30,
   "metadata": {},
   "outputs": [
    {
     "data": {
      "text/plain": [
       "'burned-area-delineation'"
      ]
     },
     "execution_count": 30,
     "metadata": {},
     "output_type": "execute_result"
    }
   ],
   "source": [
    "cwl_burned_area_workflow_id = get_workflow_class(burned_area_cwl)['id']\n",
    "\n",
    "cwl_burned_area_workflow_id"
   ]
  },
  {
   "cell_type": "code",
   "execution_count": 31,
   "metadata": {},
   "outputs": [
    {
     "name": "stdout",
     "output_type": "stream",
     "text": [
      "input: ndvi_threshold - NDVI difference threshold\n",
      "input: ndwi_threshold - NDWI difference threshold\n",
      "input: post_event - Post-event product for burned area delineation\n",
      "input: pre_event - Pre-event product for burned area delineation\n"
     ]
    }
   ],
   "source": [
    "for key, value in get_workflow_class(burned_area_cwl)['inputs'].items():\n",
    "    \n",
    "    print('input: {} - {}'.format(key, value['label']))"
   ]
  },
  {
   "cell_type": "markdown",
   "metadata": {},
   "source": [
    "Create the parameters file for CWL and invoke the CWL runner tool"
   ]
  },
  {
   "cell_type": "raw",
   "metadata": {},
   "source": [
    "aoi: POLYGON((136.508 -36.108,136.508 -35.654,137.178 -35.654,137.178 -36.108,136.508\n",
    "  -36.108))\n",
    "ndvi_threshold: '0.19'\n",
    "ndwi_threshold: '0.18'\n",
    "post_event: {class: Directory, path: /workspace/application-chaining/o27byuyx/stac-results}\n",
    "pre_event: {class: Directory, path: /workspace/application-chaining/jn0iisx4/stac-results}\n"
   ]
  },
  {
   "cell_type": "code",
   "execution_count": 32,
   "metadata": {},
   "outputs": [],
   "source": [
    "params = {'aoi': 'POLYGON((136.508 -36.108,136.508 -35.654,137.178 -35.654,137.178 -36.108,136.508 -36.108))',\n",
    "          'ndvi_threshold': '0.19',\n",
    "          'ndwi_threshold': '0.18',\n",
    "          'pre_event': {'class': 'Directory', 'path': os.path.dirname(vegetation_index_stac_catalogs[0])},\n",
    "          'post_event': {'class': 'Directory', 'path': os.path.dirname(vegetation_index_stac_catalogs[1])}\n",
    "         }\n",
    "\n",
    "params_file = os.path.join(os.getcwd(), 'burned-area.yml')\n",
    "    \n",
    "    \n",
    "with open(params_file, 'w') as yaml_file:\n",
    "\n",
    "    yaml.dump(params,\n",
    "              yaml_file, \n",
    "              default_flow_style=False)\n",
    " "
   ]
  },
  {
   "cell_type": "code",
   "execution_count": 33,
   "metadata": {},
   "outputs": [
    {
     "name": "stdout",
     "output_type": "stream",
     "text": [
      "/opt/anaconda/bin/cwltool --no-read-only --no-match-user burned-area-delineation.cwl#burned-area-delineation /workspace/ogc-tb16/application-chaining/notebook/burned-area.yml\n"
     ]
    }
   ],
   "source": [
    "   \n",
    "cmd_args = [cwltool, \n",
    "            '--no-read-only',\n",
    "            '--no-match-user',\n",
    "            '{}#{}'.format(cwl_burned_area, \n",
    "                           cwl_burned_area_workflow_id), \n",
    "            params_file]\n",
    "        \n",
    "print(' '.join(cmd_args))\n",
    "\n",
    "pipes = subprocess.Popen(cmd_args, \n",
    "                         stdout=subprocess.PIPE, \n",
    "                         stderr=subprocess.PIPE)\n",
    "    \n",
    "std_out, std_err = pipes.communicate()\n",
    "    \n",
    "    "
   ]
  },
  {
   "cell_type": "code",
   "execution_count": 34,
   "metadata": {},
   "outputs": [
    {
     "data": {
      "text/plain": [
       "'file:///workspace/ogc-tb16/application-chaining/notebook/ye8jbyh0/catalog.json'"
      ]
     },
     "execution_count": 34,
     "metadata": {},
     "output_type": "execute_result"
    }
   ],
   "source": [
    "stac_catalog = None\n",
    "\n",
    "for index, listing in enumerate(json.loads(std_out.decode())['wf_outputs']['listing']):\n",
    "\n",
    "    if (listing['basename']) == 'catalog.json':\n",
    "        stac_catalog = listing['location']\n",
    "\n",
    "        break\n",
    "\n",
    "stac_catalog"
   ]
  },
  {
   "cell_type": "code",
   "execution_count": 35,
   "metadata": {},
   "outputs": [],
   "source": [
    "cat = Catalog.from_file(stac_catalog.replace('file://', ''))"
   ]
  },
  {
   "cell_type": "code",
   "execution_count": 36,
   "metadata": {},
   "outputs": [
    {
     "name": "stdout",
     "output_type": "stream",
     "text": [
      "* <Catalog id=catalog>\n",
      "  * <Item id=BURNED_AREA_DELINEATION>\n"
     ]
    }
   ],
   "source": [
    "cat.describe()"
   ]
  },
  {
   "cell_type": "code",
   "execution_count": 37,
   "metadata": {},
   "outputs": [
    {
     "data": {
      "text/plain": [
       "{'tvi': <Asset href=./BURNED_NDVI_NDWI_THRESHOLD.tif>,\n",
       " 'dnbr': <Asset href=./BURNED_RBR.tif>}"
      ]
     },
     "execution_count": 37,
     "metadata": {},
     "output_type": "execute_result"
    }
   ],
   "source": [
    "item = next(cat.get_items())\n",
    "\n",
    "item.assets"
   ]
  },
  {
   "cell_type": "code",
   "execution_count": 38,
   "metadata": {},
   "outputs": [
    {
     "name": "stdout",
     "output_type": "stream",
     "text": [
      "/workspace/ogc-tb16/application-chaining/notebook/ye8jbyh0/BURNED_AREA_DELINEATION/BURNED_NDVI_NDWI_THRESHOLD.tif\n",
      "/workspace/ogc-tb16/application-chaining/notebook/ye8jbyh0/BURNED_AREA_DELINEATION/BURNED_RBR.tif\n"
     ]
    }
   ],
   "source": [
    "print(item.assets['tvi'].get_absolute_href())\n",
    "print(item.assets['dnbr'].get_absolute_href())"
   ]
  },
  {
   "cell_type": "code",
   "execution_count": null,
   "metadata": {},
   "outputs": [],
   "source": []
  }
 ],
 "metadata": {
  "kernelspec": {
   "display_name": "env_burned_area",
   "language": "python",
   "name": "env_burned_area"
  },
  "language_info": {
   "codemirror_mode": {
    "name": "ipython",
    "version": 3
   },
   "file_extension": ".py",
   "mimetype": "text/x-python",
   "name": "python",
   "nbconvert_exporter": "python",
   "pygments_lexer": "ipython3",
   "version": "3.7.8"
  }
 },
 "nbformat": 4,
 "nbformat_minor": 4
}
