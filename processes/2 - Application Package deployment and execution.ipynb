{
 "cells": [
  {
   "cell_type": "markdown",
   "metadata": {},
   "source": [
    "## ADES demonstration - OGC API Processes \n",
    "\n",
    "Deploy a CWL application package as a WPS processing service and submit an execution request"
   ]
  },
  {
   "cell_type": "code",
   "execution_count": 11,
   "metadata": {},
   "outputs": [
    {
     "name": "stdout",
     "output_type": "stream",
     "text": [
      "The autoreload extension is already loaded. To reload it, use:\n",
      "  %reload_ext autoreload\n"
     ]
    }
   ],
   "source": [
    "%load_ext autoreload\n",
    "%autoreload 2"
   ]
  },
  {
   "cell_type": "code",
   "execution_count": 46,
   "metadata": {},
   "outputs": [],
   "source": [
    "import requests\n",
    "import os\n",
    "import getpass\n",
    "import json\n",
    "import yaml\n",
    "from time import sleep\n",
    "from helpers2 import *"
   ]
  },
  {
   "cell_type": "markdown",
   "metadata": {},
   "source": [
    "## Deploy the process"
   ]
  },
  {
   "cell_type": "code",
   "execution_count": null,
   "metadata": {},
   "outputs": [],
   "source": []
  },
  {
   "cell_type": "code",
   "execution_count": 14,
   "metadata": {},
   "outputs": [
    {
     "name": "stdin",
     "output_type": "stream",
     "text": [
      "Token: ·\n"
     ]
    }
   ],
   "source": [
    "token = getpass.getpass('Token:')"
   ]
  },
  {
   "cell_type": "code",
   "execution_count": 15,
   "metadata": {},
   "outputs": [],
   "source": [
    "cwl_url = 'https://raw.githubusercontent.com/terradue-ogc-tb16/application-chaining/master/processes/vegetation-index.cwl'"
   ]
  },
  {
   "cell_type": "code",
   "execution_count": 16,
   "metadata": {},
   "outputs": [
    {
     "name": "stdout",
     "output_type": "stream",
     "text": [
      "201 Created http://ades-dev.eoepca.terradue.com/terradue/wps3/processes\n"
     ]
    }
   ],
   "source": [
    "r = deploy_process(cwl_url, token)\n",
    "\n",
    "print(r.status_code, r.reason, r.url)"
   ]
  },
  {
   "cell_type": "markdown",
   "metadata": {},
   "source": [
    "## /processes"
   ]
  },
  {
   "cell_type": "code",
   "execution_count": 19,
   "metadata": {},
   "outputs": [
    {
     "name": "stdout",
     "output_type": "stream",
     "text": [
      "200 OK http://ades-dev.eoepca.terradue.com/terradue/wps3/processes\n"
     ]
    }
   ],
   "source": [
    "r = get_process(token)\n",
    "\n",
    "print(r.status_code, r.reason, r.url)"
   ]
  },
  {
   "cell_type": "code",
   "execution_count": 21,
   "metadata": {},
   "outputs": [
    {
     "data": {
      "text/plain": [
       "{'processes': [{'id': 'eoepcaadesundeployprocess',\n",
       "   'title': 'Eoepca Deploy Process',\n",
       "   'abstract': 'This method will undeploy an application encapsulated within a Docker container as a process accessible through the WPS interface.',\n",
       "   'version': '1.0.0',\n",
       "   'jobControlOptions': ['sync-execute', 'async-execute', 'dismiss'],\n",
       "   'outputTransmission': ['value', 'reference'],\n",
       "   'links': [{'rel': 'canonical',\n",
       "     'type': 'application/json',\n",
       "     'title': 'Process Description',\n",
       "     'href': '/watchjob/processes/eoepcaadesundeployprocess/'}]},\n",
       "  {'id': 'nb_vegetation_index_',\n",
       "   'title': 'Vegetation index',\n",
       "   'abstract': 'Vegetation index',\n",
       "   'jobControlOptions': ['sync-execute', 'async-execute', 'dismiss'],\n",
       "   'outputTransmission': ['value', 'reference'],\n",
       "   'links': [{'rel': 'canonical',\n",
       "     'type': 'application/json',\n",
       "     'title': 'Process Description',\n",
       "     'href': '/watchjob/processes/nb_vegetation_index_/'}]},\n",
       "  {'id': 'GetStatus',\n",
       "   'title': 'Produce an updated ExecuteResponse document. ',\n",
       "   'abstract': 'Create an ExecuteResponse document from a sid (Service ID), it will use the niternal ZOO Kernel mechanisms to access the current status from a running Service and update the percentCompleted from the original backup file used by the ZOO Kernel when running a Service in background. ',\n",
       "   'version': '1.0.0',\n",
       "   'jobControlOptions': ['sync-execute', 'async-execute', 'dismiss'],\n",
       "   'outputTransmission': ['value', 'reference'],\n",
       "   'links': [{'rel': 'canonical',\n",
       "     'type': 'application/json',\n",
       "     'title': 'Process Description',\n",
       "     'href': '/watchjob/processes/GetStatus/'}]},\n",
       "  {'id': 'eoepcaadesdeployprocess',\n",
       "   'title': 'Eoepca Deploy Process',\n",
       "   'abstract': 'This method will deploy an application encapsulated within a Docker container as a process accessible through the WPS interface.',\n",
       "   'version': '1.0.0',\n",
       "   'jobControlOptions': ['sync-execute', 'async-execute', 'dismiss'],\n",
       "   'outputTransmission': ['value', 'reference'],\n",
       "   'links': [{'rel': 'canonical',\n",
       "     'type': 'application/json',\n",
       "     'title': 'Process Description',\n",
       "     'href': '/watchjob/processes/eoepcaadesdeployprocess/'}]},\n",
       "  {'id': 'vegetation_index_',\n",
       "   'title': 'Vegetation index',\n",
       "   'abstract': 'Vegetation index',\n",
       "   'jobControlOptions': ['sync-execute', 'async-execute', 'dismiss'],\n",
       "   'outputTransmission': ['value', 'reference'],\n",
       "   'links': [{'rel': 'canonical',\n",
       "     'type': 'application/json',\n",
       "     'title': 'Process Description',\n",
       "     'href': '/watchjob/processes/vegetation_index_/'}]}]}"
      ]
     },
     "execution_count": 21,
     "metadata": {},
     "output_type": "execute_result"
    }
   ],
   "source": [
    "r.json()"
   ]
  },
  {
   "cell_type": "markdown",
   "metadata": {},
   "source": [
    "## /processes/{id}"
   ]
  },
  {
   "cell_type": "code",
   "execution_count": 23,
   "metadata": {},
   "outputs": [
    {
     "name": "stdout",
     "output_type": "stream",
     "text": [
      "200 OK http://ades-dev.eoepca.terradue.com/terradue/wps3/processes/vegetation_index_\n"
     ]
    }
   ],
   "source": [
    "process_id = 'vegetation_index_'\n",
    "\n",
    "r = get_process(token, process_id)\n",
    "\n",
    "print(r.status_code, r.reason, r.url)"
   ]
  },
  {
   "cell_type": "code",
   "execution_count": 24,
   "metadata": {},
   "outputs": [
    {
     "data": {
      "text/plain": [
       "{'process': {'id': 'vegetation_index_',\n",
       "  'title': 'Vegetation index',\n",
       "  'abstract': 'Vegetation index',\n",
       "  'jobControlOptions': ['sync-execute', 'async-execute', 'dismiss'],\n",
       "  'outputTransmission': ['value', 'reference'],\n",
       "  'links': [{'rel': 'canonical',\n",
       "    'type': 'application/json',\n",
       "    'title': 'Execute End Point',\n",
       "    'href': '/watchjob/processes/vegetation_index_/jobs/'}],\n",
       "  'inputs': [{'id': 'input_reference',\n",
       "    'title': 'Sentinel-2 Level-2 catalog reference',\n",
       "    'abstract': 'Sentinel-2 Level-2 acquisition catalog reference',\n",
       "    'minOccurs': '1',\n",
       "    'maxOccurs': '999',\n",
       "    'input': {'literalDataDomains': [{'dataType': {'name': 'string'},\n",
       "       'valueDefinition': {'anyValue': True}}]}},\n",
       "   {'id': 'aoi',\n",
       "    'title': 'Area of interest',\n",
       "    'abstract': 'Area of interest in WKT',\n",
       "    'minOccurs': '1',\n",
       "    'maxOccurs': '1',\n",
       "    'input': {'literalDataDomains': [{'dataType': {'name': 'string'},\n",
       "       'valueDefinition': {'anyValue': True}}]}}],\n",
       "  'outputs': [{'id': 'wf_outputs',\n",
       "    'title': 'wf_outputs',\n",
       "    'output': {'formats': [{'default': True,\n",
       "       'mimeType': 'application/json'}]}}]}}"
      ]
     },
     "execution_count": 24,
     "metadata": {},
     "output_type": "execute_result"
    }
   ],
   "source": [
    "r.json()"
   ]
  },
  {
   "cell_type": "markdown",
   "metadata": {},
   "source": [
    "List the inputs"
   ]
  },
  {
   "cell_type": "code",
   "execution_count": 26,
   "metadata": {},
   "outputs": [
    {
     "data": {
      "text/plain": [
       "[{'id': 'input_reference',\n",
       "  'title': 'Sentinel-2 Level-2 catalog reference',\n",
       "  'abstract': 'Sentinel-2 Level-2 acquisition catalog reference',\n",
       "  'minOccurs': '1',\n",
       "  'maxOccurs': '999',\n",
       "  'input': {'literalDataDomains': [{'dataType': {'name': 'string'},\n",
       "     'valueDefinition': {'anyValue': True}}]}},\n",
       " {'id': 'aoi',\n",
       "  'title': 'Area of interest',\n",
       "  'abstract': 'Area of interest in WKT',\n",
       "  'minOccurs': '1',\n",
       "  'maxOccurs': '1',\n",
       "  'input': {'literalDataDomains': [{'dataType': {'name': 'string'},\n",
       "     'valueDefinition': {'anyValue': True}}]}}]"
      ]
     },
     "execution_count": 26,
     "metadata": {},
     "output_type": "execute_result"
    }
   ],
   "source": [
    "inputs = r.json()['process']['inputs']\n",
    "\n",
    "inputs"
   ]
  },
  {
   "cell_type": "markdown",
   "metadata": {},
   "source": [
    "## Execute - /processes/{id}/jobs"
   ]
  },
  {
   "cell_type": "code",
   "execution_count": 27,
   "metadata": {},
   "outputs": [],
   "source": [
    "execute_inputs = [{'id': 'input_reference',\n",
    "                               'input': {'dataType': {'name': 'string'},\n",
    "                                         'value': 'https://catalog.terradue.com/sentinel2/search?uid=S2A_MSIL2A_20191216T004701_N0213_R102_T53HPA_20191216T024808'}},\n",
    "                              {'id': 'aoi',\n",
    "                               'input': {'dataType': {'name': 'string'},\n",
    "                                         'value': 'POLYGON((136.112726861895 -36.227897298303,137.333826362695 -36.2103069464338,137.305145407058 -35.2211228310596,136.099040812374 -35.2380875358202,136.112726861895 -36.227897298303))'}}]"
   ]
  },
  {
   "cell_type": "code",
   "execution_count": 30,
   "metadata": {},
   "outputs": [
    {
     "name": "stdout",
     "output_type": "stream",
     "text": [
      "201 Created http://ades-dev.eoepca.terradue.com/terradue/wps3/processes/vegetation_index_/jobs\n"
     ]
    }
   ],
   "source": [
    "r = execute_process(token, process_id, execute_inputs)\n",
    "\n",
    "print(r.status_code, r.reason, r.url)"
   ]
  },
  {
   "cell_type": "code",
   "execution_count": 33,
   "metadata": {},
   "outputs": [
    {
     "data": {
      "text/plain": [
       "'/terradue/watchjob/processes/vegetation_index_/jobs/873c698a-1f7d-11eb-ac9a-0a580a8105ca'"
      ]
     },
     "execution_count": 33,
     "metadata": {},
     "output_type": "execute_result"
    }
   ],
   "source": [
    "job_location = r.headers['Location']\n",
    "\n",
    "job_location"
   ]
  },
  {
   "cell_type": "markdown",
   "metadata": {},
   "source": [
    "## Poll /processes/{id}/jobs/{job_id}"
   ]
  },
  {
   "cell_type": "code",
   "execution_count": 39,
   "metadata": {},
   "outputs": [
    {
     "name": "stdout",
     "output_type": "stream",
     "text": [
      "200 OK http://ades-dev.eoepca.terradue.com/terradue/watchjob/processes/vegetation_index_/jobs/873c698a-1f7d-11eb-ac9a-0a580a8105ca\n"
     ]
    }
   ],
   "source": [
    "r = get_status(token, job_location)\n",
    "\n",
    "print(r.status_code, r.reason, r.url)"
   ]
  },
  {
   "cell_type": "code",
   "execution_count": 41,
   "metadata": {},
   "outputs": [
    {
     "data": {
      "text/plain": [
       "{'jobID': '873c698a-1f7d-11eb-ac9a-0a580a8105ca',\n",
       " 'status': 'running',\n",
       " 'message': 'running',\n",
       " 'progress': '0',\n",
       " 'links': [{'href': 'http://ades-dev.eoepca.terradue.com/terradue/watchjob/processes/vegetation_index_/jobs/873c698a-1f7d-11eb-ac9a-0a580a8105ca',\n",
       "   'rel': 'self',\n",
       "   'type': 'application/json',\n",
       "   'title': 'get Status'}]}"
      ]
     },
     "execution_count": 41,
     "metadata": {},
     "output_type": "execute_result"
    }
   ],
   "source": [
    "r.json()"
   ]
  },
  {
   "cell_type": "code",
   "execution_count": 44,
   "metadata": {},
   "outputs": [
    {
     "name": "stdout",
     "output_type": "stream",
     "text": [
      "Polling - running\n"
     ]
    },
    {
     "ename": "KeyboardInterrupt",
     "evalue": "",
     "output_type": "error",
     "traceback": [
      "\u001b[0;31m---------------------------------------------------------------------------\u001b[0m",
      "\u001b[0;31mKeyboardInterrupt\u001b[0m                         Traceback (most recent call last)",
      "\u001b[0;32m<ipython-input-44-5b263e5cb744>\u001b[0m in \u001b[0;36m<module>\u001b[0;34m\u001b[0m\n\u001b[1;32m     19\u001b[0m         \u001b[0mprint\u001b[0m\u001b[0;34m(\u001b[0m\u001b[0;34m'Polling - {}'\u001b[0m\u001b[0;34m.\u001b[0m\u001b[0mformat\u001b[0m\u001b[0;34m(\u001b[0m\u001b[0mr\u001b[0m\u001b[0;34m.\u001b[0m\u001b[0mjson\u001b[0m\u001b[0;34m(\u001b[0m\u001b[0;34m)\u001b[0m\u001b[0;34m[\u001b[0m\u001b[0;34m'status'\u001b[0m\u001b[0;34m]\u001b[0m\u001b[0;34m)\u001b[0m\u001b[0;34m)\u001b[0m\u001b[0;34m\u001b[0m\u001b[0;34m\u001b[0m\u001b[0m\n\u001b[1;32m     20\u001b[0m \u001b[0;34m\u001b[0m\u001b[0m\n\u001b[0;32m---> 21\u001b[0;31m         \u001b[0msleep\u001b[0m\u001b[0;34m(\u001b[0m\u001b[0;36m30\u001b[0m\u001b[0;34m)\u001b[0m\u001b[0;34m\u001b[0m\u001b[0;34m\u001b[0m\u001b[0m\n\u001b[0m\u001b[1;32m     22\u001b[0m \u001b[0;34m\u001b[0m\u001b[0m\n",
      "\u001b[0;31mKeyboardInterrupt\u001b[0m: "
     ]
    }
   ],
   "source": [
    "\n",
    "while r.json()['status'] == 'running':\n",
    "\n",
    "    r = get_status(token, job_location)\n",
    "\n",
    "    if r.json()['status'] == 'failed': \n",
    "    \n",
    "        print(r.json())\n",
    "        \n",
    "        break\n",
    "        \n",
    "    if r.json()['status'] == 'successful':  \n",
    "\n",
    "        print( r.json()['links'][0]['href'])\n",
    "        \n",
    "        break\n",
    "    \n",
    "    else:\n",
    "        \n",
    "        print('Polling - {}'.format(r.json()['status']))\n",
    "        \n",
    "        sleep(30)\n",
    "        "
   ]
  },
  {
   "cell_type": "markdown",
   "metadata": {},
   "source": [
    "## Results - /processes/{id}/jobs/{job_id}/result"
   ]
  },
  {
   "cell_type": "code",
   "execution_count": null,
   "metadata": {},
   "outputs": [],
   "source": [
    "response"
   ]
  },
  {
   "cell_type": "code",
   "execution_count": 48,
   "metadata": {},
   "outputs": [
    {
     "name": "stdout",
     "output_type": "stream",
     "text": [
      "500 The result file is not ready http://ades-dev.eoepca.terradue.com//terradue/watchjob/processes/vegetation_index_/jobs/873c698a-1f7d-11eb-ac9a-0a580a8105ca/result\n"
     ]
    }
   ],
   "source": [
    "r = get_result(token, job_location)\n",
    "\n",
    "print(r.status_code, r.reason, r.url)"
   ]
  },
  {
   "cell_type": "code",
   "execution_count": null,
   "metadata": {},
   "outputs": [],
   "source": [
    "response = r.json()\n",
    "\n",
    "response"
   ]
  },
  {
   "cell_type": "code",
   "execution_count": null,
   "metadata": {},
   "outputs": [],
   "source": [
    "results = json.loads(response['outputs'][0]['value']['inlineValue'])\n",
    "\n",
    "results"
   ]
  },
  {
   "cell_type": "markdown",
   "metadata": {},
   "source": [
    "## Inspect the results\n",
    "\n",
    "Use the STAC catalog endpoint in the \"Exploiting the result.ipynb\" Notebook "
   ]
  },
  {
   "cell_type": "code",
   "execution_count": null,
   "metadata": {},
   "outputs": [],
   "source": [
    "stac_catalog_endpoint = results['stac:catalog']['href']\n",
    "\n",
    "stac_catalog_endpoint"
   ]
  },
  {
   "cell_type": "code",
   "execution_count": null,
   "metadata": {},
   "outputs": [],
   "source": []
  }
 ],
 "metadata": {
  "kernelspec": {
   "display_name": "Python [conda env:env_burned_area_delineation]",
   "language": "python",
   "name": "conda-env-env_burned_area_delineation-py"
  },
  "language_info": {
   "codemirror_mode": {
    "name": "ipython",
    "version": 3
   },
   "file_extension": ".py",
   "mimetype": "text/x-python",
   "name": "python",
   "nbconvert_exporter": "python",
   "pygments_lexer": "ipython3",
   "version": "3.7.8"
  }
 },
 "nbformat": 4,
 "nbformat_minor": 4
}
